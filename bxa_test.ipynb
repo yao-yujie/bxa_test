{
 "cells": [
  {
   "cell_type": "code",
   "execution_count": 4,
   "metadata": {
    "scrolled": true
   },
   "outputs": [
    {
     "name": "stdout",
     "output_type": "stream",
     "text": [
      "[1.0, 0.01, 1e-10, 1e-10, 10.0, 10.0]\n",
      "  uniform prior for alpha between -10.000000 and 5.000000 \n",
      "  uniform prior for beta between -10.000000 and 10.000000 \n",
      "  jeffreys prior for norm between 1.000000e-10 and 1.000000e+01 \n",
      "   note: this parameter spans *many* dex. Double-check the limits are reasonable.\n",
      "running analysis ...\n",
      "  analysing data from simplest-.txt\n",
      "running analysis ... done\n",
      "analysing results...\n",
      "  analysing data from simplest-.txt\n",
      "creating marginal plots...\n",
      "creating plot of posterior predictions ...\n",
      "saving plot...\n",
      "creating plot of posterior predictions against data ...\n"
     ]
    },
    {
     "name": "stderr",
     "output_type": "stream",
     "text": [
      " 18%|█▊        | 18/100 [00:00<00:00, 171.75it/s]"
     ]
    },
    {
     "name": "stdout",
     "output_type": "stream",
     "text": [
      "binning for plot...\n"
     ]
    },
    {
     "name": "stderr",
     "output_type": "stream",
     "text": [
      "100%|██████████| 100/100 [00:00<00:00, 172.82it/s]\n",
      "100%|██████████| 100/100 [00:00<00:00, 167.46it/s]\n",
      "100%|██████████| 100/100 [00:00<00:00, 170.06it/s]\n"
     ]
    },
    {
     "name": "stdout",
     "output_type": "stream",
     "text": [
      "saving plot...\n",
      "creating quantile-quantile plot ...\n",
      "saving plot...\n",
      "\n",
      "\n",
      "Parameter estimation summary\n",
      "****************************\n",
      "\n",
      "       parameter name: median, 10%, q90% quantile\n",
      "  --------------------\n",
      "                alpha: -5.535  -9.107 -1.771 \n",
      "                 beta: -1.285  -1.427 -1.182 \n",
      "            log(norm): -2.169  -2.314 -2.066 \n",
      "\n",
      " (for pretty plots, run \"multinest_marginals.py simplest-\")\n",
      "\n",
      "Model evidence: ln(Z) = -16.86 +- 0.68\n",
      "\n",
      "300.0 0.0\n"
     ]
    }
   ],
   "source": [
    "from xspec import *\n",
    "import bxa.xspec as bxa\n",
    "\n",
    "Fit.statMethod='cstat'\n",
    "Plot.xAxis='keV'\n",
    "Plot.yLog=True\n",
    "alldatastr='n4.pha '\n",
    "AllData(alldatastr)\n",
    "AllData.ignore('1:**-8.0,800.0-**  2:**-200.0,40000.0-**')\n",
    "m = Model(\"grbm\")\n",
    "m.grbm.norm.values =  \",,1e-10,1e-10,1e1,1e1\"\n",
    "print(m.grbm.norm.values)\n",
    "transformations = [bxa.create_uniform_prior_for( m, m.grbm.alpha),\n",
    "                   bxa.create_uniform_prior_for( m, m.grbm.beta),\n",
    "                   bxa.create_jeffreys_prior_for( m, m.grbm.norm)]\n",
    "\n",
    "outputfiles_basename = 'simplest-'\n",
    "bxa.standard_analysis(transformations,outputfiles_basename = outputfiles_basename,verbose=True, resume=True)\n",
    "\n",
    "par3=AllModels(1)(3)\n",
    "print(par3.values[0],par3.error[0])\n"
   ]
  },
  {
   "cell_type": "code",
   "execution_count": 6,
   "metadata": {},
   "outputs": [
    {
     "name": "stdout",
     "output_type": "stream",
     "text": [
      "[300.0, 3.0, 10.0, 50.0, 1000.0, 10000.0]\n",
      "  uniform prior for alpha between -10.000000 and 5.000000 \n",
      "  uniform prior for beta between -10.000000 and 10.000000 \n",
      "  uniform prior for tem between 10.000000 and 10000.000000 \n",
      "   note: this parameter spans several dex. Should it be log-uniform (create_jeffreys_prior_for)?\n",
      "running analysis ...\n",
      "  analysing data from simplest1-.txt\n",
      "running analysis ... done\n",
      "analysing results...\n",
      "  analysing data from simplest1-.txt\n",
      "creating marginal plots...\n",
      "creating plot of posterior predictions ...\n",
      "saving plot...\n",
      "creating plot of posterior predictions against data ...\n"
     ]
    },
    {
     "name": "stderr",
     "output_type": "stream",
     "text": [
      " 17%|█▋        | 17/100 [00:00<00:00, 163.50it/s]"
     ]
    },
    {
     "name": "stdout",
     "output_type": "stream",
     "text": [
      "binning for plot...\n"
     ]
    },
    {
     "name": "stderr",
     "output_type": "stream",
     "text": [
      "100%|██████████| 100/100 [00:00<00:00, 171.34it/s]\n",
      "100%|██████████| 100/100 [00:00<00:00, 177.10it/s]\n",
      "100%|██████████| 100/100 [00:00<00:00, 170.54it/s]\n"
     ]
    },
    {
     "name": "stdout",
     "output_type": "stream",
     "text": [
      "saving plot...\n",
      "creating quantile-quantile plot ...\n",
      "saving plot...\n",
      "\n",
      "\n",
      "Parameter estimation summary\n",
      "****************************\n",
      "\n",
      "       parameter name: median, 10%, q90% quantile\n",
      "  --------------------\n",
      "                alpha: 0.998  0.435 1.949 \n",
      "                 beta: -1.682  -2.464 -1.342 \n",
      "                  tem: 15.939  11.368 20.358 \n",
      "\n",
      " (for pretty plots, run \"multinest_marginals.py simplest1-\")\n",
      "\n",
      "Model evidence: ln(Z) = -18.34 +- 0.02\n",
      "\n",
      "10.284872013217852 0.0\n"
     ]
    }
   ],
   "source": [
    "from xspec import *\n",
    "import bxa.xspec as bxa\n",
    "\n",
    "Fit.statMethod='cstat'\n",
    "Plot.xAxis='keV'\n",
    "Plot.yLog=True\n",
    "\n",
    "alldatastr='n4.pha'\n",
    "AllData(alldatastr)\n",
    "AllData.ignore('1:**-8.0,800.0-**  2:**-200.0,40000.0-**')\n",
    "\n",
    "m = Model(\"grbm\")\n",
    "\n",
    "\n",
    "print(m.grbm.tem.values)\n",
    "transformations = [bxa.create_uniform_prior_for( m, m.grbm.alpha),\n",
    "                   bxa.create_uniform_prior_for( m, m.grbm.beta),\n",
    "                   bxa.create_uniform_prior_for( m, m.grbm.tem)]\n",
    "\n",
    "outputfiles_basename = 'simplest1-'\n",
    "bxa.standard_analysis(transformations,outputfiles_basename = outputfiles_basename,verbose=True, resume=True)\n",
    "\n",
    "par3=AllModels(1)(3)\n",
    "print(par3.values[0],par3.error[0])"
   ]
  },
  {
   "cell_type": "code",
   "execution_count": 14,
   "metadata": {},
   "outputs": [
    {
     "name": "stdout",
     "output_type": "stream",
     "text": [
      "[300.0, 3.0, 10.0, 50.0, 1000.0, 10000.0]\n",
      "  uniform prior for alpha between -10.000000 and 5.000000 \n",
      "  uniform prior for beta between -10.000000 and 10.000000 \n",
      "  jeffreys prior for tem between 1.000000e+01 and 1.000000e+04 \n",
      "running analysis ...\n",
      "  analysing data from simplest3-.txt\n",
      "running analysis ... done\n",
      "analysing results...\n",
      "  analysing data from simplest3-.txt\n",
      "creating marginal plots...\n",
      "creating plot of posterior predictions ...\n",
      "saving plot...\n",
      "creating plot of posterior predictions against data ...\n"
     ]
    },
    {
     "name": "stderr",
     "output_type": "stream",
     "text": [
      " 10%|█         | 10/100 [00:00<00:00, 95.77it/s]"
     ]
    },
    {
     "name": "stdout",
     "output_type": "stream",
     "text": [
      "binning for plot...\n"
     ]
    },
    {
     "name": "stderr",
     "output_type": "stream",
     "text": [
      "100%|██████████| 100/100 [00:01<00:00, 92.04it/s]\n",
      "100%|██████████| 100/100 [00:01<00:00, 95.59it/s]\n",
      "100%|██████████| 100/100 [00:01<00:00, 96.82it/s]\n",
      "/usr/local/lib/python3.6/dist-packages/bxa/xspec/sinning.py:100: RuntimeWarning: invalid value encountered in less\n",
      "  mask = numpy.logical_and(pxlo < xhii, xloi < pxhi)\n"
     ]
    },
    {
     "ename": "ValueError",
     "evalue": "zero-size array to reduction operation minimum which has no identity",
     "output_type": "error",
     "traceback": [
      "\u001b[0;31m---------------------------------------------------------------------------\u001b[0m",
      "\u001b[0;31mValueError\u001b[0m                                Traceback (most recent call last)",
      "\u001b[0;32m<ipython-input-14-69a9d774a738>\u001b[0m in \u001b[0;36m<module>\u001b[0;34m\u001b[0m\n\u001b[1;32m     19\u001b[0m \u001b[0;34m\u001b[0m\u001b[0m\n\u001b[1;32m     20\u001b[0m \u001b[0moutputfiles_basename\u001b[0m \u001b[0;34m=\u001b[0m \u001b[0;34m'simplest3-'\u001b[0m\u001b[0;34m\u001b[0m\u001b[0;34m\u001b[0m\u001b[0m\n\u001b[0;32m---> 21\u001b[0;31m \u001b[0mbxa\u001b[0m\u001b[0;34m.\u001b[0m\u001b[0mstandard_analysis\u001b[0m\u001b[0;34m(\u001b[0m\u001b[0mtransformations\u001b[0m\u001b[0;34m,\u001b[0m\u001b[0moutputfiles_basename\u001b[0m \u001b[0;34m=\u001b[0m \u001b[0moutputfiles_basename\u001b[0m\u001b[0;34m,\u001b[0m\u001b[0mverbose\u001b[0m\u001b[0;34m=\u001b[0m\u001b[0;32mTrue\u001b[0m\u001b[0;34m,\u001b[0m \u001b[0mresume\u001b[0m\u001b[0;34m=\u001b[0m\u001b[0;32mTrue\u001b[0m\u001b[0;34m)\u001b[0m\u001b[0;34m\u001b[0m\u001b[0;34m\u001b[0m\u001b[0m\n\u001b[0m\u001b[1;32m     22\u001b[0m \u001b[0;34m\u001b[0m\u001b[0m\n\u001b[1;32m     23\u001b[0m \u001b[0mpar3\u001b[0m\u001b[0;34m=\u001b[0m\u001b[0mAllModels\u001b[0m\u001b[0;34m(\u001b[0m\u001b[0;36m1\u001b[0m\u001b[0;34m)\u001b[0m\u001b[0;34m(\u001b[0m\u001b[0;36m3\u001b[0m\u001b[0;34m)\u001b[0m\u001b[0;34m\u001b[0m\u001b[0;34m\u001b[0m\u001b[0m\n",
      "\u001b[0;32m/usr/local/lib/python3.6/dist-packages/bxa/xspec/__init__.py\u001b[0m in \u001b[0;36mstandard_analysis\u001b[0;34m(transformations, outputfiles_basename, skipsteps, **kwargs)\u001b[0m\n\u001b[1;32m    369\u001b[0m \t\tbinned = binning(outputfiles_basename = analyzer.outputfiles_basename, \n\u001b[1;32m    370\u001b[0m                         \u001b[0mbins\u001b[0m \u001b[0;34m=\u001b[0m \u001b[0mdata\u001b[0m\u001b[0;34m[\u001b[0m\u001b[0;34m'bins'\u001b[0m\u001b[0;34m]\u001b[0m\u001b[0;34m,\u001b[0m \u001b[0mwidths\u001b[0m \u001b[0;34m=\u001b[0m \u001b[0mdata\u001b[0m\u001b[0;34m[\u001b[0m\u001b[0;34m'width'\u001b[0m\u001b[0;34m]\u001b[0m\u001b[0;34m,\u001b[0m\u001b[0;34m\u001b[0m\u001b[0;34m\u001b[0m\u001b[0m\n\u001b[0;32m--> 371\u001b[0;31m \t\t\tdata = data['data'], models = data['models'])\n\u001b[0m\u001b[1;32m    372\u001b[0m                 \u001b[0;32mfor\u001b[0m \u001b[0mpoint\u001b[0m \u001b[0;32min\u001b[0m \u001b[0mbinned\u001b[0m\u001b[0;34m[\u001b[0m\u001b[0;34m'marked_binned'\u001b[0m\u001b[0;34m]\u001b[0m\u001b[0;34m:\u001b[0m\u001b[0;34m\u001b[0m\u001b[0;34m\u001b[0m\u001b[0m\n\u001b[1;32m    373\u001b[0m                         \u001b[0mplt\u001b[0m\u001b[0;34m.\u001b[0m\u001b[0merrorbar\u001b[0m\u001b[0;34m(\u001b[0m\u001b[0mmarker\u001b[0m\u001b[0;34m=\u001b[0m\u001b[0;34m'o'\u001b[0m\u001b[0;34m,\u001b[0m \u001b[0mzorder\u001b[0m\u001b[0;34m=\u001b[0m\u001b[0;34m-\u001b[0m\u001b[0;36m1\u001b[0m\u001b[0;34m,\u001b[0m \u001b[0;34m**\u001b[0m\u001b[0mpoint\u001b[0m\u001b[0;34m)\u001b[0m\u001b[0;34m\u001b[0m\u001b[0;34m\u001b[0m\u001b[0m\n",
      "\u001b[0;32m/usr/local/lib/python3.6/dist-packages/bxa/xspec/sinning.py\u001b[0m in \u001b[0;36mbinning\u001b[0;34m(outputfiles_basename, bins, widths, data, models)\u001b[0m\n\u001b[1;32m     99\u001b[0m                         \u001b[0;31m# select p values that intersect\u001b[0m\u001b[0;34m\u001b[0m\u001b[0;34m\u001b[0m\u001b[0;34m\u001b[0m\u001b[0m\n\u001b[1;32m    100\u001b[0m                         \u001b[0mmask\u001b[0m \u001b[0;34m=\u001b[0m \u001b[0mnumpy\u001b[0m\u001b[0;34m.\u001b[0m\u001b[0mlogical_and\u001b[0m\u001b[0;34m(\u001b[0m\u001b[0mpxlo\u001b[0m \u001b[0;34m<\u001b[0m \u001b[0mxhii\u001b[0m\u001b[0;34m,\u001b[0m \u001b[0mxloi\u001b[0m \u001b[0;34m<\u001b[0m \u001b[0mpxhi\u001b[0m\u001b[0;34m)\u001b[0m\u001b[0;34m\u001b[0m\u001b[0;34m\u001b[0m\u001b[0m\n\u001b[0;32m--> 101\u001b[0;31m                         \u001b[0mdata_gofp\u001b[0m\u001b[0;34m[\u001b[0m\u001b[0mi\u001b[0m\u001b[0;34m]\u001b[0m \u001b[0;34m=\u001b[0m \u001b[0mnumpy\u001b[0m\u001b[0;34m.\u001b[0m\u001b[0mnanmin\u001b[0m\u001b[0;34m(\u001b[0m\u001b[0;34m[\u001b[0m\u001b[0mdata_gofp\u001b[0m\u001b[0;34m[\u001b[0m\u001b[0mi\u001b[0m\u001b[0;34m]\u001b[0m\u001b[0;34m,\u001b[0m \u001b[0;34m(\u001b[0m\u001b[0mnstats\u001b[0m\u001b[0;34m[\u001b[0m\u001b[0mmask\u001b[0m\u001b[0;34m]\u001b[0m\u001b[0;34m[\u001b[0m\u001b[0;34m:\u001b[0m\u001b[0;34m,\u001b[0m\u001b[0;36m2\u001b[0m\u001b[0;34m]\u001b[0m\u001b[0;34m)\u001b[0m\u001b[0;34m.\u001b[0m\u001b[0mmin\u001b[0m\u001b[0;34m(\u001b[0m\u001b[0;34m)\u001b[0m \u001b[0;34m*\u001b[0m \u001b[0mlen\u001b[0m\u001b[0;34m(\u001b[0m\u001b[0mnstats\u001b[0m\u001b[0;34m)\u001b[0m\u001b[0;34m]\u001b[0m\u001b[0;34m)\u001b[0m\u001b[0;34m\u001b[0m\u001b[0;34m\u001b[0m\u001b[0m\n\u001b[0m\u001b[1;32m    102\u001b[0m \u001b[0;34m\u001b[0m\u001b[0m\n\u001b[1;32m    103\u001b[0m         \u001b[0mgof_avg\u001b[0m \u001b[0;34m=\u001b[0m \u001b[0mcurgof\u001b[0m\u001b[0;34m\u001b[0m\u001b[0;34m\u001b[0m\u001b[0m\n",
      "\u001b[0;32m/usr/local/lib/python3.6/dist-packages/numpy/core/_methods.py\u001b[0m in \u001b[0;36m_amin\u001b[0;34m(a, axis, out, keepdims, initial, where)\u001b[0m\n\u001b[1;32m     32\u001b[0m def _amin(a, axis=None, out=None, keepdims=False,\n\u001b[1;32m     33\u001b[0m           initial=_NoValue, where=True):\n\u001b[0;32m---> 34\u001b[0;31m     \u001b[0;32mreturn\u001b[0m \u001b[0mumr_minimum\u001b[0m\u001b[0;34m(\u001b[0m\u001b[0ma\u001b[0m\u001b[0;34m,\u001b[0m \u001b[0maxis\u001b[0m\u001b[0;34m,\u001b[0m \u001b[0;32mNone\u001b[0m\u001b[0;34m,\u001b[0m \u001b[0mout\u001b[0m\u001b[0;34m,\u001b[0m \u001b[0mkeepdims\u001b[0m\u001b[0;34m,\u001b[0m \u001b[0minitial\u001b[0m\u001b[0;34m,\u001b[0m \u001b[0mwhere\u001b[0m\u001b[0;34m)\u001b[0m\u001b[0;34m\u001b[0m\u001b[0;34m\u001b[0m\u001b[0m\n\u001b[0m\u001b[1;32m     35\u001b[0m \u001b[0;34m\u001b[0m\u001b[0m\n\u001b[1;32m     36\u001b[0m def _sum(a, axis=None, dtype=None, out=None, keepdims=False,\n",
      "\u001b[0;31mValueError\u001b[0m: zero-size array to reduction operation minimum which has no identity"
     ]
    },
    {
     "data": {
      "image/png": "[encoded data removed]",
      "text/plain": [
       "<Figure size 432x288 with 1 Axes>"
      ]
     },
     "metadata": {
      "needs_background": "light"
     },
     "output_type": "display_data"
    }
   ],
   "source": [
    "from xspec import *\n",
    "import bxa.xspec as bxa\n",
    "\n",
    "Fit.statMethod='cstat'\n",
    "Plot.xAxis='keV'\n",
    "Plot.yLog=True\n",
    "\n",
    "alldatastr='n5.pha b0.pha'\n",
    "AllData(alldatastr)\n",
    "AllData.ignore('1:**-8.0,800.0-**  2:**-200.0,40000.0-**')\n",
    "Fit.perform()\n",
    "m = Model(\"grbm\")\n",
    "print(m.grbm.tem.values)\n",
    "\n",
    "print(m.grbm.tem.values)\n",
    "transformations = [bxa.create_uniform_prior_for( m, m.grbm.alpha),\n",
    "                   bxa.create_uniform_prior_for( m, m.grbm.beta),\n",
    "                   bxa.create_jeffreys_prior_for( m, m.grbm.tem)]\n",
    "\n",
    "outputfiles_basename = 'simplest3-'\n",
    "bxa.standard_analysis(transformations,outputfiles_basename = outputfiles_basename,verbose=True, resume=True)\n",
    "\n",
    "par3=AllModels(1)(3)\n",
    "print(par3.values[0],par3.error[0])"
   ]
  },
  {
   "cell_type": "code",
   "execution_count": null,
   "metadata": {},
   "outputs": [],
   "source": []
  }
 ],
 "metadata": {
  "kernelspec": {
   "display_name": "Python 3",
   "language": "python",
   "name": "python3"
  },
  "language_info": {
   "codemirror_mode": {
    "name": "ipython",
    "version": 3
   },
   "file_extension": ".py",
   "mimetype": "text/x-python",
   "name": "python",
   "nbconvert_exporter": "python",
   "pygments_lexer": "ipython3",
   "version": "3.6.9"
  }
 },
 "nbformat": 4,
 "nbformat_minor": 2
}
