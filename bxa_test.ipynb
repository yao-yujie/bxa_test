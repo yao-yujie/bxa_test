{
 "cells": [
  {
   "cell_type": "code",
   "execution_count": 1,
   "metadata": {
    "scrolled": true
   },
   "outputs": [
    {
     "name": "stdout",
     "output_type": "stream",
     "text": [
      "[1.0, 0.01, 1e-10, 1e-10, 10.0, 10.0]\n",
      "  uniform prior for alpha between -10.000000 and 5.000000 \n",
      "  uniform prior for beta between -10.000000 and 10.000000 \n",
      "  jeffreys prior for norm between 1.000000e-10 and 1.000000e+01 \n",
      "   note: this parameter spans *many* dex. Double-check the limits are reasonable.\n",
      "running analysis ...\n",
      "  analysing data from simplest-.txt\n",
      "running analysis ... done\n",
      "analysing results...\n",
      "  analysing data from simplest-.txt\n",
      "creating marginal plots...\n",
      "creating plot of posterior predictions ...\n",
      "saving plot...\n",
      "creating plot of posterior predictions against data ...\n"
     ]
    },
    {
     "name": "stderr",
     "output_type": "stream",
     "text": [
      " 16%|█▌        | 16/100 [00:00<00:00, 158.24it/s]"
     ]
    },
    {
     "name": "stdout",
     "output_type": "stream",
     "text": [
      "binning for plot...\n"
     ]
    },
    {
     "name": "stderr",
     "output_type": "stream",
     "text": [
      "100%|██████████| 100/100 [00:00<00:00, 168.30it/s]\n"
     ]
    },
    {
     "name": "stdout",
     "output_type": "stream",
     "text": [
      "saving plot...\n",
      "creating quantile-quantile plot ...\n",
      "saving plot...\n",
      "\n",
      "\n",
      "Parameter estimation summary\n",
      "****************************\n",
      "\n",
      "       parameter name: median, 10%, q90% quantile\n",
      "  --------------------\n",
      "                alpha: -1.184  -8.309 3.516 \n",
      "                 beta: -1.493  -8.121 1.562 \n",
      "            log(norm): -3.684  -8.412 -1.876 \n",
      "\n",
      " (for pretty plots, run \"multinest_marginals.py simplest-\")\n",
      "\n",
      "Model evidence: ln(Z) = -7.58 +- 0.02\n",
      "\n",
      "300.0 0.0\n"
     ]
    }
   ],
   "source": [
    "from xspec import *\n",
    "import bxa.xspec as bxa\n",
    "\n",
    "Fit.statMethod='cstat'\n",
    "Plot.xAxis='keV'\n",
    "Plot.yLog=True\n",
    "alldatastr='n4.pha '\n",
    "AllData(alldatastr)\n",
    "AllData.ignore('1:**-8.0,800.0-**  2:**-200.0,40000.0-**')\n",
    "m = Model(\"grbm\")\n",
    "m.grbm.norm.values =  \",,1e-10,1e-10,1e1,1e1\"\n",
    "print(m.grbm.norm.values)\n",
    "transformations = [bxa.create_uniform_prior_for( m, m.grbm.alpha),\n",
    "                   bxa.create_uniform_prior_for( m, m.grbm.beta),\n",
    "                   bxa.create_jeffreys_prior_for( m, m.grbm.norm)]\n",
    "\n",
    "outputfiles_basename = 'simplest-'\n",
    "bxa.standard_analysis(transformations,outputfiles_basename = outputfiles_basename,verbose=True, resume=True)\n",
    "\n",
    "par3=AllModels(1)(3)\n",
    "print(par3.values[0],par3.error[0])\n"
   ]
  },
  {
   "cell_type": "code",
   "execution_count": 2,
   "metadata": {},
   "outputs": [
    {
     "name": "stdout",
     "output_type": "stream",
     "text": [
      "[300.0, 3.0, 10.0, 50.0, 1000.0, 10000.0]\n",
      "  uniform prior for alpha between -10.000000 and 5.000000 \n",
      "  uniform prior for beta between -10.000000 and 10.000000 \n",
      "  uniform prior for tem between 10.000000 and 10000.000000 \n",
      "   note: this parameter spans several dex. Should it be log-uniform (create_jeffreys_prior_for)?\n",
      "running analysis ...\n",
      "  analysing data from simplest1-.txt\n",
      "running analysis ... done\n",
      "analysing results...\n",
      "  analysing data from simplest1-.txt\n",
      "creating marginal plots...\n",
      "creating plot of posterior predictions ...\n",
      "saving plot...\n",
      "creating plot of posterior predictions against data ...\n"
     ]
    },
    {
     "name": "stderr",
     "output_type": "stream",
     "text": [
      " 17%|█▋        | 17/100 [00:00<00:00, 163.73it/s]"
     ]
    },
    {
     "name": "stdout",
     "output_type": "stream",
     "text": [
      "binning for plot...\n"
     ]
    },
    {
     "name": "stderr",
     "output_type": "stream",
     "text": [
      "100%|██████████| 100/100 [00:00<00:00, 164.05it/s]\n",
      "100%|██████████| 100/100 [00:00<00:00, 157.91it/s]\n",
      "100%|██████████| 100/100 [00:00<00:00, 172.87it/s]\n"
     ]
    },
    {
     "name": "stdout",
     "output_type": "stream",
     "text": [
      "saving plot...\n",
      "creating quantile-quantile plot ...\n",
      "saving plot...\n",
      "\n",
      "\n",
      "Parameter estimation summary\n",
      "****************************\n",
      "\n",
      "       parameter name: median, 10%, q90% quantile\n",
      "  --------------------\n",
      "                alpha: 1.856  0.312 4.065 \n",
      "                 beta: -1.819  -7.013 -1.057 \n",
      "                  tem: 20.111  13.102 24.493 \n",
      "\n",
      " (for pretty plots, run \"multinest_marginals.py simplest1-\")\n",
      "\n",
      "Model evidence: ln(Z) = -13.90 +- 0.02\n",
      "\n",
      "14.92441809239174 0.0\n"
     ]
    }
   ],
   "source": [
    "from xspec import *\n",
    "import bxa.xspec as bxa\n",
    "\n",
    "Fit.statMethod='cstat'\n",
    "Plot.xAxis='keV'\n",
    "Plot.yLog=True\n",
    "\n",
    "alldatastr='n4.pha'\n",
    "AllData(alldatastr)\n",
    "AllData.ignore('1:**-8.0,800.0-**  2:**-200.0,40000.0-**')\n",
    "\n",
    "m = Model(\"grbm\")\n",
    "\n",
    "\n",
    "print(m.grbm.tem.values)\n",
    "transformations = [bxa.create_uniform_prior_for( m, m.grbm.alpha),\n",
    "                   bxa.create_uniform_prior_for( m, m.grbm.beta),\n",
    "                   bxa.create_uniform_prior_for( m, m.grbm.tem)]\n",
    "\n",
    "outputfiles_basename = 'simplest1-'\n",
    "bxa.standard_analysis(transformations,outputfiles_basename = outputfiles_basename,verbose=True, resume=True)\n",
    "\n",
    "par3=AllModels(1)(3)\n",
    "print(par3.values[0],par3.error[0])"
   ]
  },
  {
   "cell_type": "code",
   "execution_count": 3,
   "metadata": {},
   "outputs": [
    {
     "name": "stdout",
     "output_type": "stream",
     "text": [
      "[300.0, 3.0, 10.0, 50.0, 1000.0, 10000.0]\n",
      "[300.0, 3.0, 10.0, 50.0, 1000.0, 10000.0]\n",
      "  uniform prior for alpha between -10.000000 and 5.000000 \n",
      "  uniform prior for beta between -10.000000 and 10.000000 \n",
      "  jeffreys prior for tem between 1.000000e+01 and 1.000000e+04 \n",
      "running analysis ...\n",
      "  analysing data from simplest3-.txt\n",
      "running analysis ... done\n",
      "analysing results...\n",
      "  analysing data from simplest3-.txt\n",
      "creating marginal plots...\n",
      "creating plot of posterior predictions ...\n",
      "saving plot...\n",
      "creating plot of posterior predictions against data ...\n"
     ]
    },
    {
     "name": "stderr",
     "output_type": "stream",
     "text": [
      " 17%|█▋        | 17/100 [00:00<00:00, 165.09it/s]"
     ]
    },
    {
     "name": "stdout",
     "output_type": "stream",
     "text": [
      "binning for plot...\n"
     ]
    },
    {
     "name": "stderr",
     "output_type": "stream",
     "text": [
      "100%|██████████| 100/100 [00:00<00:00, 162.51it/s]\n",
      "100%|██████████| 100/100 [00:00<00:00, 160.15it/s]\n",
      "100%|██████████| 100/100 [00:00<00:00, 127.53it/s]\n"
     ]
    },
    {
     "name": "stdout",
     "output_type": "stream",
     "text": [
      "saving plot...\n",
      "creating quantile-quantile plot ...\n",
      "saving plot...\n",
      "\n",
      "\n",
      "Parameter estimation summary\n",
      "****************************\n",
      "\n",
      "       parameter name: median, 10%, q90% quantile\n",
      "  --------------------\n",
      "                alpha: 1.966  0.159 4.165 \n",
      "                 beta: -1.761  -7.002 -0.913 \n",
      "             log(tem): 1.276  1.072 1.383 \n",
      "\n",
      " (for pretty plots, run \"multinest_marginals.py simplest3-\")\n",
      "\n",
      "Model evidence: ln(Z) = -9.64 +- 0.02\n",
      "\n",
      "10.538831277563034 0.0\n"
     ]
    }
   ],
   "source": [
    "from xspec import *\n",
    "import bxa.xspec as bxa\n",
    "\n",
    "Fit.statMethod='cstat'\n",
    "Plot.xAxis='keV'\n",
    "Plot.yLog=True\n",
    "\n",
    "alldatastr='n5.pha b0.pha'\n",
    "AllData(alldatastr)\n",
    "AllData.ignore('1:**-8.0,800.0-**  2:**-200.0,40000.0-**')\n",
    "Fit.perform()\n",
    "m = Model(\"grbm\")\n",
    "print(m.grbm.tem.values)\n",
    "\n",
    "transformations = [bxa.create_uniform_prior_for( m, m.grbm.alpha),\n",
    "                   bxa.create_uniform_prior_for( m, m.grbm.beta),\n",
    "                   bxa.create_jeffreys_prior_for( m, m.grbm.tem)]\n",
    "\n",
    "outputfiles_basename = 'simplest3-'\n",
    "bxa.standard_analysis(transformations,outputfiles_basename = outputfiles_basename,verbose=True, resume=True)\n",
    "\n",
    "par3=AllModels(1)(3)\n",
    "print(par3.values[0],par3.error[0])"
   ]
  },
  {
   "cell_type": "code",
   "execution_count": null,
   "metadata": {},
   "outputs": [],
   "source": []
  }
 ],
 "metadata": {
  "kernelspec": {
   "display_name": "Python 3",
   "language": "python",
   "name": "python3"
  },
  "language_info": {
   "codemirror_mode": {
    "name": "ipython",
    "version": 3
   },
   "file_extension": ".py",
   "mimetype": "text/x-python",
   "name": "python",
   "nbconvert_exporter": "python",
   "pygments_lexer": "ipython3",
   "version": "3.6.9"
  }
 },
 "nbformat": 4,
 "nbformat_minor": 2
}
